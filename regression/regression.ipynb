{
 "cells": [
  {
   "cell_type": "code",
   "execution_count": null,
   "id": "94ff7ec0",
   "metadata": {},
   "outputs": [],
   "source": [
    "import sys\n",
    "import os\n",
    "sys.path.insert(0, os.path.abspath('..')) # Add parent directory to path\n",
    "\n",
    "import plotly.graph_objects as go\n",
    "import numpy as np\n",
    "from matplotlib.animation import FuncAnimation\n",
    "from nn.nets import Net\n",
    "from nn.layers import InLayer, Dense\n",
    "from nn.activation_functions import ReLU, linear\n",
    "from nn.cost_functions import MSE"
   ]
  },
  {
   "cell_type": "code",
   "execution_count": null,
   "id": "43d6dfab",
   "metadata": {},
   "outputs": [],
   "source": [
    "l0 = InLayer(units=2)\n",
    "l1 = Dense(units=8, activation=ReLU)\n",
    "l2 = Dense(units=8, activation=ReLU)\n",
    "l3 = Dense(units=1, activation=linear)"
   ]
  },
  {
   "cell_type": "code",
   "execution_count": null,
   "id": "78176b9c",
   "metadata": {},
   "outputs": [],
   "source": [
    "net = Net([l0, l1, l2, l3], cost_function=MSE)"
   ]
  },
  {
   "cell_type": "code",
   "execution_count": null,
   "id": "46390356",
   "metadata": {},
   "outputs": [],
   "source": [
    "x1 = x2 = np.linspace(-5, 5, 300)\n",
    "x1v, x2v = np.meshgrid(x1, x2)\n",
    "\n",
    "X_train = np.stack((x1v, x2v), axis=-1).reshape(-1, 2)\n",
    "Y_train = (np.sin(x1v + x2v)).reshape(-1, 1)\n",
    "print(X_train.shape, Y_train.shape)"
   ]
  },
  {
   "cell_type": "code",
   "execution_count": null,
   "id": "e83e4a0c",
   "metadata": {},
   "outputs": [],
   "source": [
    "frames_raw = []"
   ]
  },
  {
   "cell_type": "code",
   "execution_count": null,
   "id": "b135c9a6",
   "metadata": {},
   "outputs": [],
   "source": [
    "\n",
    "\n",
    "for i in range (100):\n",
    "    net.gradient_descent(X_train, Y_train, alpha=0.01, epochs=1000, verbose=False, batch_size=1000)\n",
    "\n",
    "    Y_pred = net.predict(X_train)\n",
    "    m = Y_pred.shape[0]\n",
    "    n = int(np.sqrt(m))\n",
    "    z = Y_pred.reshape((n, n))\n",
    "    frames_raw.append(z)"
   ]
  },
  {
   "cell_type": "code",
   "execution_count": null,
   "id": "99f70050",
   "metadata": {},
   "outputs": [],
   "source": [
    "net.predict(np.array([[0, 0]]))\n",
    "# np.sin(1)"
   ]
  },
  {
   "cell_type": "code",
   "execution_count": null,
   "id": "9a03856e",
   "metadata": {},
   "outputs": [],
   "source": [
    "frames_raw[-1][90,90]"
   ]
  },
  {
   "cell_type": "code",
   "execution_count": null,
   "id": "790f242e",
   "metadata": {},
   "outputs": [],
   "source": [
    "# 2D grid\n",
    "\n",
    "# Generate z surfaces for each frame\n",
    "# frames_raw = [np.sin(np.sqrt(x1v**2 + x2v**2) - t * 0.2) for t in range(30)]\n",
    "\n",
    "# Convert to Plotly frames\n",
    "frames = [go.Frame(data=[go.Surface(z=z, x=x1v, y=x2v)], name=str(i)) for i, z in enumerate(frames_raw)]\n",
    "\n",
    "# Create figure with first frame's surface\n",
    "fig = go.Figure(\n",
    "    data=frames[0].data,  # ✅ Not wrapped in an extra list\n",
    "    frames=frames\n",
    ")\n",
    "\n",
    "# Lock axes and set fast animation\n",
    "fig.update_layout(\n",
    "    scene=dict(\n",
    "        zaxis=dict(range=[0, 1], autorange=False),\n",
    "        xaxis=dict(range=[-5, 5], autorange=False),\n",
    "        yaxis=dict(range=[-5, 5], autorange=False)\n",
    "    ),\n",
    "    updatemenus=[{\n",
    "        'type': 'buttons',\n",
    "        'buttons': [{\n",
    "            'label': 'Play',\n",
    "            'method': 'animate',\n",
    "            'args': [None, {\n",
    "                'frame': {'duration': 30, 'redraw': True},\n",
    "                'transition': {'duration': 0},\n",
    "                'fromcurrent': True\n",
    "            }]\n",
    "        }]\n",
    "    }]\n",
    ")\n",
    "\n",
    "fig.show()\n"
   ]
  },
  {
   "cell_type": "code",
   "execution_count": null,
   "id": "887127bb",
   "metadata": {},
   "outputs": [],
   "source": []
  }
 ],
 "metadata": {
  "kernelspec": {
   "display_name": "Python (ai_project)",
   "language": "python",
   "name": "myenv"
  },
  "language_info": {
   "codemirror_mode": {
    "name": "ipython",
    "version": 3
   },
   "file_extension": ".py",
   "mimetype": "text/x-python",
   "name": "python",
   "nbconvert_exporter": "python",
   "pygments_lexer": "ipython3",
   "version": "3.12.7"
  }
 },
 "nbformat": 4,
 "nbformat_minor": 5
}
