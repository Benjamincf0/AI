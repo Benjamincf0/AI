{
 "cells": [
  {
   "cell_type": "code",
   "execution_count": 1,
   "id": "0abc521f",
   "metadata": {},
   "outputs": [],
   "source": [
    "from ailib import Net\n",
    "import numpy as np\n",
    "import matplotlib.pyplot as plt"
   ]
  },
  {
   "cell_type": "code",
   "execution_count": 2,
   "id": "0d718ae2",
   "metadata": {},
   "outputs": [],
   "source": [
    "net = Net(shape=[2, 1])"
   ]
  },
  {
   "cell_type": "code",
   "execution_count": 3,
   "id": "655aa2f8",
   "metadata": {},
   "outputs": [
    {
     "name": "stdout",
     "output_type": "stream",
     "text": [
      "(1, 2) (1,)\n"
     ]
    }
   ],
   "source": [
    "print(net.weights[0].shape, net.biases[0].shape)"
   ]
  },
  {
   "cell_type": "code",
   "execution_count": 4,
   "id": "e995cf92",
   "metadata": {},
   "outputs": [],
   "source": [
    "# net.weights[0] = np.array([[3.0, 3.0]])\n",
    "\n",
    "# net.biases[0] = np.array([2.0])"
   ]
  },
  {
   "cell_type": "code",
   "execution_count": 5,
   "id": "30646d6c",
   "metadata": {},
   "outputs": [
    {
     "name": "stdout",
     "output_type": "stream",
     "text": [
      "[[-0.17108748  0.29835571]] \n",
      "\n",
      " [0.]\n"
     ]
    }
   ],
   "source": [
    "print(net.weights[0],'\\n\\n', net.biases[0])"
   ]
  },
  {
   "cell_type": "code",
   "execution_count": 6,
   "id": "559b2300",
   "metadata": {},
   "outputs": [],
   "source": [
    "# np.dot(np.array([[3.0],\n",
    "#                  [3.0]]).T, np.array([-2, -3]))"
   ]
  },
  {
   "cell_type": "code",
   "execution_count": 7,
   "id": "b6fd71ab",
   "metadata": {},
   "outputs": [
    {
     "data": {
      "text/plain": [
       "(array([-0.55289216]), [array([-2, -3]), array([-0.55289216])])"
      ]
     },
     "execution_count": 7,
     "metadata": {},
     "output_type": "execute_result"
    }
   ],
   "source": [
    "net.predict(np.array([-2, -3]))"
   ]
  },
  {
   "cell_type": "code",
   "execution_count": 8,
   "id": "0df69a22",
   "metadata": {},
   "outputs": [
    {
     "name": "stdout",
     "output_type": "stream",
     "text": [
      "[[ -2  -3]\n",
      " [  0   0]\n",
      " [  0   1]\n",
      " [ 21   3]\n",
      " [  1   7]\n",
      " [  3   4]\n",
      " [ 32  21]\n",
      " [ 12 -74]] \n",
      "\n",
      " [ -13    2    5   74   26   23  161 -184]\n"
     ]
    }
   ],
   "source": [
    "X_train = np.array([[-2, -3],\n",
    "                     [0,  0],\n",
    "                     [0,  1],\n",
    "                     [21, 3],\n",
    "                     [1, 7],\n",
    "                     [3, 4],\n",
    "                     [32, 21],\n",
    "                     [12, -74]])\n",
    "                     \n",
    "y_train = np.sum(X_train*3, axis=1)+2 # y = x1*3 + 2\n",
    "# y_train[0] = -10\n",
    "print(X_train,'\\n\\n', y_train)"
   ]
  },
  {
   "cell_type": "code",
   "execution_count": 9,
   "id": "fb462e2f",
   "metadata": {},
   "outputs": [
    {
     "data": {
      "text/plain": [
       "np.float64(3647.9211297769307)"
      ]
     },
     "execution_count": 9,
     "metadata": {},
     "output_type": "execute_result"
    }
   ],
   "source": [
    "net.compute_cost(X_train, y_train)"
   ]
  },
  {
   "cell_type": "code",
   "execution_count": 12,
   "id": "2c190004",
   "metadata": {},
   "outputs": [
    {
     "name": "stdout",
     "output_type": "stream",
     "text": [
      "Iteration         0: Cost 3539.700679\n",
      "Iteration      5000: Cost 3539.700679\n",
      "Iteration     10000: Cost 3539.700679\n",
      "Iteration     15000: Cost 3539.700679\n",
      "Iteration     20000: Cost 3539.700679\n",
      "Iteration     25000: Cost 3539.700679\n",
      "Iteration     30000: Cost 3539.700679\n",
      "Iteration     35000: Cost 3539.700679\n",
      "Iteration     40000: Cost 3539.700679\n",
      "Iteration     45000: Cost 3539.700679\n",
      "Iteration     50000: Cost 3539.700679\n",
      "Iteration     55000: Cost 3539.700679\n",
      "Iteration     60000: Cost 3539.700679\n",
      "Iteration     65000: Cost 3539.700679\n",
      "Iteration     70000: Cost 3539.700679\n",
      "Iteration     75000: Cost 3539.700679\n",
      "Iteration     80000: Cost 3539.700679\n",
      "Iteration     85000: Cost 3539.700679\n",
      "Iteration     90000: Cost 3539.700679\n",
      "Iteration     95000: Cost 3539.700679\n"
     ]
    }
   ],
   "source": [
    "J_history = net.gradient_descent(X_train, y_train)"
   ]
  },
  {
   "cell_type": "code",
   "execution_count": 11,
   "id": "24a4a408",
   "metadata": {},
   "outputs": [
    {
     "name": "stdout",
     "output_type": "stream",
     "text": [
      "[4.03959271 6.43438907]\n"
     ]
    }
   ],
   "source": [
    "# for j in range(len(net.shape)-2, -1, -1):\n",
    "#     print(j)\n",
    "\n",
    "_, activations = net.predict(X_train[0])\n",
    "y_label = y_train[0]\n",
    "activations.append(y_label)\n",
    "\n",
    "for j in range(len(net.shape)-2, -1, -1):\n",
    "    print(X_train[0]*(activations[0] - activations[0+1])/X_train.shape[0])\n",
    "\n",
    "# print(activations)"
   ]
  },
  {
   "cell_type": "code",
   "execution_count": null,
   "id": "eaa9ad15",
   "metadata": {},
   "outputs": [],
   "source": []
  }
 ],
 "metadata": {
  "kernelspec": {
   "display_name": "Python (ai_project)",
   "language": "python",
   "name": "myenv"
  },
  "language_info": {
   "codemirror_mode": {
    "name": "ipython",
    "version": 3
   },
   "file_extension": ".py",
   "mimetype": "text/x-python",
   "name": "python",
   "nbconvert_exporter": "python",
   "pygments_lexer": "ipython3",
   "version": "3.12.7"
  }
 },
 "nbformat": 4,
 "nbformat_minor": 5
}
