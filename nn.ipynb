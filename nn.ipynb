{
 "cells": [
  {
   "cell_type": "code",
   "execution_count": null,
   "id": "9a6c0ffb",
   "metadata": {},
   "outputs": [],
   "source": [
    "import numpy as np\n",
    "from nn.activation_functions import sigmoid, linear, ReLU, softmax\n",
    "from nn.layers import Dense, InLayer\n",
    "from nn.nets import Net\n",
    "from nn.cost_functions import MSE"
   ]
  },
  {
   "cell_type": "code",
   "execution_count": 2,
   "id": "4b2f7836",
   "metadata": {},
   "outputs": [],
   "source": [
    "l0 = InLayer(units=3)\n",
    "l1 = Dense(units=25, activation=ReLU)\n",
    "l2 = Dense(units=15, activation=ReLU)\n",
    "l3 = Dense(units=2, activation=softmax)"
   ]
  },
  {
   "cell_type": "code",
   "execution_count": null,
   "id": "279dc759",
   "metadata": {},
   "outputs": [
    {
     "name": "stdout",
     "output_type": "stream",
     "text": [
      "[<nn.layers.InLayer object at 0x108173470>, <nn.layers.Dense object at 0x108170440>, <nn.layers.Dense object at 0x108173350>, <nn.layers.Dense object at 0x10aabe4b0>]\n"
     ]
    }
   ],
   "source": [
    "net = Net([l0, l1, l2, l3], cost_function=MSE)\n",
    "print(net.layers)"
   ]
  },
  {
   "cell_type": "code",
   "execution_count": 4,
   "id": "3200dd36",
   "metadata": {},
   "outputs": [
    {
     "name": "stdout",
     "output_type": "stream",
     "text": [
      "(15, 2)\n"
     ]
    }
   ],
   "source": [
    "print(net.layers[3].W.shape)"
   ]
  },
  {
   "cell_type": "code",
   "execution_count": 5,
   "id": "e76eda11",
   "metadata": {},
   "outputs": [],
   "source": [
    "import numpy as np\n",
    "X = np.array([[1, 2, 3],\n",
    "              [4, 5, 6],])"
   ]
  },
  {
   "cell_type": "code",
   "execution_count": null,
   "id": "9609e1bc",
   "metadata": {},
   "outputs": [
    {
     "name": "stdout",
     "output_type": "stream",
     "text": [
      "[[0.9088655  0.0911345 ]\n",
      " [0.99687773 0.00312227]]\n"
     ]
    }
   ],
   "source": [
    "print(net.predict(X)[0])"
   ]
  },
  {
   "cell_type": "code",
   "execution_count": 7,
   "id": "f4c8bc3d",
   "metadata": {},
   "outputs": [],
   "source": [
    "X_train, y_label = None, None"
   ]
  },
  {
   "cell_type": "code",
   "execution_count": 8,
   "id": "b5522144",
   "metadata": {},
   "outputs": [],
   "source": [
    "Y_train = y_label"
   ]
  },
  {
   "cell_type": "code",
   "execution_count": 9,
   "id": "315b4d2e",
   "metadata": {},
   "outputs": [
    {
     "ename": "AttributeError",
     "evalue": "'NoneType' object has no attribute 'shape'",
     "output_type": "error",
     "traceback": [
      "\u001b[31m---------------------------------------------------------------------------\u001b[39m",
      "\u001b[31mAttributeError\u001b[39m                            Traceback (most recent call last)",
      "\u001b[36mCell\u001b[39m\u001b[36m \u001b[39m\u001b[32mIn[9]\u001b[39m\u001b[32m, line 1\u001b[39m\n\u001b[32m----> \u001b[39m\u001b[32m1\u001b[39m \u001b[43mnet\u001b[49m\u001b[43m.\u001b[49m\u001b[43mcompute_cost\u001b[49m\u001b[43m(\u001b[49m\u001b[43mX_train\u001b[49m\u001b[43m,\u001b[49m\u001b[43m \u001b[49m\u001b[43mY_train\u001b[49m\u001b[43m)\u001b[49m \u001b[38;5;66;03m# very high\u001b[39;00m\n",
      "\u001b[36mFile \u001b[39m\u001b[32m~/Code/AI/AI/nn/nets.py:47\u001b[39m, in \u001b[36mNet.compute_cost\u001b[39m\u001b[34m(self, X_train, Y_train)\u001b[39m\n\u001b[32m     36\u001b[39m \u001b[38;5;28;01mdef\u001b[39;00m \u001b[34mcompute_cost\u001b[39m(\u001b[38;5;28mself\u001b[39m, X_train:np.ndarray, Y_train:np.ndarray):\n\u001b[32m     37\u001b[39m \u001b[38;5;250m    \u001b[39m\u001b[33;03m\"\"\" Computes cost for entire X_train\u001b[39;00m\n\u001b[32m     38\u001b[39m \n\u001b[32m     39\u001b[39m \u001b[33;03m    Args:\u001b[39;00m\n\u001b[32m   (...)\u001b[39m\u001b[32m     44\u001b[39m \u001b[33;03m        J_wb (int): cost\u001b[39;00m\n\u001b[32m     45\u001b[39m \u001b[33;03m    \"\"\"\u001b[39;00m\n\u001b[32m---> \u001b[39m\u001b[32m47\u001b[39m     m = \u001b[43mX_train\u001b[49m\u001b[43m.\u001b[49m\u001b[43mshape\u001b[49m[\u001b[32m0\u001b[39m]\n\u001b[32m     48\u001b[39m     Y_hat = \u001b[38;5;28mself\u001b[39m.predict(X_train)\n\u001b[32m     50\u001b[39m     C = (\u001b[32m1\u001b[39m/(\u001b[32m2\u001b[39m*m))*((Y_hat - Y_train)**\u001b[32m2\u001b[39m)\n",
      "\u001b[31mAttributeError\u001b[39m: 'NoneType' object has no attribute 'shape'"
     ]
    }
   ],
   "source": [
    "net.compute_cost(X_train, Y_train) # very high"
   ]
  },
  {
   "cell_type": "code",
   "execution_count": null,
   "id": "13e2e66b",
   "metadata": {},
   "outputs": [],
   "source": [
    "net.gradient_descent(X_train, Y_train)"
   ]
  },
  {
   "cell_type": "code",
   "execution_count": null,
   "id": "0adc6e51",
   "metadata": {},
   "outputs": [],
   "source": [
    "net.compute_cost(X_train, Y_train) # near 0"
   ]
  },
  {
   "cell_type": "code",
   "execution_count": null,
   "id": "f8fa299b",
   "metadata": {},
   "outputs": [],
   "source": [
    "x_sample = X_train[0]\n",
    "net.predict(x_sample)"
   ]
  }
 ],
 "metadata": {
  "kernelspec": {
   "display_name": "Python (ai_project)",
   "language": "python",
   "name": "myenv"
  },
  "language_info": {
   "codemirror_mode": {
    "name": "ipython",
    "version": 3
   },
   "file_extension": ".py",
   "mimetype": "text/x-python",
   "name": "python",
   "nbconvert_exporter": "python",
   "pygments_lexer": "ipython3",
   "version": "3.12.7"
  }
 },
 "nbformat": 4,
 "nbformat_minor": 5
}
