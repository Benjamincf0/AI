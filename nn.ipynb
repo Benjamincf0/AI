{
 "cells": [
  {
   "cell_type": "code",
   "execution_count": null,
   "id": "9a6c0ffb",
   "metadata": {},
   "outputs": [],
   "source": [
    "from nn.activation_functions import sigmoid\n",
    "from nn.layers import Dense, InLayer, OutLayer\n",
    "from nn.nets import Net"
   ]
  },
  {
   "cell_type": "code",
   "execution_count": null,
   "id": "4b2f7836",
   "metadata": {},
   "outputs": [],
   "source": [
    "l0 = InLayer(units=784)\n",
    "l1 = Dense(units=20, activation=sigmoid)\n",
    "l2 = Dense(units=14, activation=sigmoid)\n",
    "l3 = Dense(units=10)"
   ]
  },
  {
   "cell_type": "code",
   "execution_count": null,
   "id": "279dc759",
   "metadata": {},
   "outputs": [],
   "source": [
    "net = Net([l0, l1, l2, l3])"
   ]
  },
  {
   "cell_type": "code",
   "execution_count": null,
   "id": "f4c8bc3d",
   "metadata": {},
   "outputs": [],
   "source": [
    "X_train, y_label = None, None"
   ]
  },
  {
   "cell_type": "code",
   "execution_count": null,
   "id": "b5522144",
   "metadata": {},
   "outputs": [],
   "source": [
    "Y_train = y_label"
   ]
  },
  {
   "cell_type": "code",
   "execution_count": null,
   "id": "315b4d2e",
   "metadata": {},
   "outputs": [],
   "source": [
    "net.compute_cost(X_train, Y_train) # very high"
   ]
  },
  {
   "cell_type": "code",
   "execution_count": null,
   "id": "13e2e66b",
   "metadata": {},
   "outputs": [],
   "source": [
    "net.gradient_descent(X_train, Y_train)"
   ]
  },
  {
   "cell_type": "code",
   "execution_count": null,
   "id": "0adc6e51",
   "metadata": {},
   "outputs": [],
   "source": [
    "net.compute_cost(X_train, Y_train) # near 0"
   ]
  },
  {
   "cell_type": "code",
   "execution_count": null,
   "id": "f8fa299b",
   "metadata": {},
   "outputs": [],
   "source": [
    "x_sample = X_train[0]\n",
    "net.predict(x_sample)"
   ]
  }
 ],
 "metadata": {
  "language_info": {
   "name": "python"
  }
 },
 "nbformat": 4,
 "nbformat_minor": 5
}
